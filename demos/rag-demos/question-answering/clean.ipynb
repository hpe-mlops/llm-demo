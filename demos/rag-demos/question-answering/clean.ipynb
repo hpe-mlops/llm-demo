{
 "cells": [
  {
   "cell_type": "code",
   "execution_count": null,
   "id": "8f3d7025",
   "metadata": {
    "vscode": {
     "languageId": "plaintext"
    }
   },
   "outputs": [],
   "source": [
    "import os\n",
    "import subprocess\n",
    "\n",
    "username = os.environ['NB_PREFIX'].split('/')[2]\n",
    "\n",
    "subprocess.run([\"kubectl\", \"delete\", \"inferenceservice/vectorstore\", \"-n\", username])\n",
    "subprocess.run([\"kubectl\", \"delete\", \"inferenceservice/llm\", \"-n\", username])"
   ]
  }
 ],
 "metadata": {
  "kernelspec": {
   "display_name": "Python 3 (ipykernel)",
   "language": "python",
   "name": "python3"
  },
  "language_info": {
   "codemirror_mode": {
    "name": "ipython",
    "version": 3
   },
   "file_extension": ".py",
   "mimetype": "text/x-python",
   "name": "python",
   "nbconvert_exporter": "python",
   "pygments_lexer": "ipython3",
   "version": "3.8.10"
  }
 },
 "nbformat": 4,
 "nbformat_minor": 5
}
