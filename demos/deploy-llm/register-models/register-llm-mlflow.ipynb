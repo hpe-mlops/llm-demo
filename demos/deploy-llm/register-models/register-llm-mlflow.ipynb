{
 "cells": [
  {
   "cell_type": "markdown",
   "id": "dfd468fc-763e-4d30-8747-93990276079e",
   "metadata": {},
   "source": [
    "# Deploy LLM for DEMO\n",
    "\n",
    "## Table of Contents\n",
    "\n",
    "1. [Download and Save a Model Locally](#Download-a-LLM-model-and-store-in-local-storage)\n",
    "2. [Set Up MLflow Credential and Environment values](#Set-Up-MLflow-Credential-and-Environment-values)\n",
    "3. [Logging the Downloaded Model as an Artifact](#Logging-the-Downloaded-Model-as-an-Artifact)\n",
    "4. [Register the model to MLflow Model registry](#Register-the-model-to-MLflow-Model-registry)\n"
   ]
  },
  {
   "cell_type": "code",
   "execution_count": 1,
   "id": "f94065c6-1324-41f7-aca8-0147e99462ea",
   "metadata": {},
   "outputs": [],
   "source": [
    "import os\n",
    "from transformers import AutoModelForCausalLM, AutoTokenizer, LlamaTokenizer \n",
    "import requests\n",
    "import mlflow\n",
    "import mlflow.pyfunc\n",
    "from mlflow.tracking import MlflowClient\n",
    "import torch\n",
    "import ipywidgets as widgets\n",
    "\n",
    "from IPython.display import display"
   ]
  },
  {
   "cell_type": "markdown",
   "id": "e6d55403-3a47-4588-9873-88b077159b77",
   "metadata": {},
   "source": [
    "# Download and Save a Model Locally\n",
    "\n",
    "Download a model from hugging face and save it locally."
   ]
  },
  {
   "cell_type": "code",
   "execution_count": 5,
   "id": "aaf32cd1-7d5f-4de8-a0f2-8fbc5b6eb3f8",
   "metadata": {},
   "outputs": [
    {
     "data": {
      "application/vnd.jupyter.widget-view+json": {
       "model_id": "59e05027956b406bb48d5f5d36048416",
       "version_major": 2,
       "version_minor": 0
      },
      "text/plain": [
       "HTML(value='<h2>Model Name and Local Directory to Store</h2>')"
      ]
     },
     "metadata": {},
     "output_type": "display_data"
    },
    {
     "data": {
      "application/vnd.jupyter.widget-view+json": {
       "model_id": "cac31ad6e3254d4caa11c2a73188feb4",
       "version_major": 2,
       "version_minor": 0
      },
      "text/plain": [
       "Text(value='', description='Model name:', placeholder='sentence-transformers/all-MiniLM-L6-v2')"
      ]
     },
     "metadata": {},
     "output_type": "display_data"
    },
    {
     "data": {
      "application/vnd.jupyter.widget-view+json": {
       "model_id": "b5d39c3d8fce4bc283a8c1b242395f75",
       "version_major": 2,
       "version_minor": 0
      },
      "text/plain": [
       "Text(value='', description='Save to:', placeholder='./models/model')"
      ]
     },
     "metadata": {},
     "output_type": "display_data"
    },
    {
     "data": {
      "application/vnd.jupyter.widget-view+json": {
       "model_id": "4743d921a9444478b00013d24339e53a",
       "version_major": 2,
       "version_minor": 0
      },
      "text/plain": [
       "Button(description='Submit', layout=Layout(margin='20px 0 20px 0'), style=ButtonStyle())"
      ]
     },
     "metadata": {},
     "output_type": "display_data"
    },
    {
     "data": {
      "application/vnd.jupyter.widget-view+json": {
       "model_id": "56fca2e48e8645c5a1d70d2cbb508475",
       "version_major": 2,
       "version_minor": 0
      },
      "text/plain": [
       "Output()"
      ]
     },
     "metadata": {},
     "output_type": "display_data"
    }
   ],
   "source": [
    "# Add heading\n",
    "heading = widgets.HTML(\"<h2>Model Name and Local Directory to Store</h2>\")\n",
    "display(heading)\n",
    "\n",
    "modelname_input = widgets.Text(description='Model name:', placeholder=\"sentence-transformers/all-MiniLM-L6-v2\")\n",
    "modeldir_input = widgets.Text(description='Save to:', placeholder=\"./models/model\")\n",
    "\n",
    "submit_button = widgets.Button(description='Submit')\n",
    "success_message = widgets.Output()\n",
    "\n",
    "model_name = None\n",
    "model_dir = None\n",
    "\n",
    "def submit_button_clicked(b):\n",
    "    global model_name, model_dir\n",
    "    model_name = modelname_input.value\n",
    "    model_dir = modeldir_input.value\n",
    "    with success_message:\n",
    "        success_message.clear_output()\n",
    "        print(\"Configuration submitted successfully!\")\n",
    "    submit_button.disabled = True\n",
    "\n",
    "submit_button.on_click(submit_button_clicked)\n",
    "\n",
    "# Set margin on the submit button\n",
    "submit_button.layout.margin = '20px 0 20px 0'\n",
    "\n",
    "# Display inputs and button\n",
    "display(modelname_input, modeldir_input, submit_button, success_message)"
   ]
  },
  {
   "cell_type": "code",
   "execution_count": 6,
   "id": "db0182b7-3b6c-4e09-b870-024ee4246d74",
   "metadata": {},
   "outputs": [
    {
     "name": "stdout",
     "output_type": "stream",
     "text": [
      "yanolja/EEVE-Korean-10.8B-v1.0 ./models/model\n"
     ]
    }
   ],
   "source": [
    "print(model_name, model_dir)"
   ]
  },
  {
   "cell_type": "code",
   "execution_count": 13,
   "id": "297a6bfd-a85b-4ec8-b0a0-5dde2e59bb10",
   "metadata": {},
   "outputs": [],
   "source": [
    "#model_name = \"gpt2\"\n",
    "#model_dir = \"./models/\"+model_name"
   ]
  },
  {
   "cell_type": "code",
   "execution_count": 7,
   "id": "a502eadd-00c1-4ecf-817a-529980efcc1b",
   "metadata": {},
   "outputs": [
    {
     "data": {
      "application/vnd.jupyter.widget-view+json": {
       "model_id": "e02ac240b3254941ab2cf1ed63b78dba",
       "version_major": 2,
       "version_minor": 0
      },
      "text/plain": [
       "tokenizer_config.json:   0%|          | 0.00/1.86k [00:00<?, ?B/s]"
      ]
     },
     "metadata": {},
     "output_type": "display_data"
    },
    {
     "data": {
      "application/vnd.jupyter.widget-view+json": {
       "model_id": "4c4dc5a2a08b437da35d39c880486c13",
       "version_major": 2,
       "version_minor": 0
      },
      "text/plain": [
       "tokenizer.json:   0%|          | 0.00/2.18M [00:00<?, ?B/s]"
      ]
     },
     "metadata": {},
     "output_type": "display_data"
    },
    {
     "data": {
      "application/vnd.jupyter.widget-view+json": {
       "model_id": "35ba46f6a621454eb4a697870221edbd",
       "version_major": 2,
       "version_minor": 0
      },
      "text/plain": [
       "special_tokens_map.json:   0%|          | 0.00/557 [00:00<?, ?B/s]"
      ]
     },
     "metadata": {},
     "output_type": "display_data"
    },
    {
     "data": {
      "application/vnd.jupyter.widget-view+json": {
       "model_id": "0d374295873040f4bc663e8fe828deed",
       "version_major": 2,
       "version_minor": 0
      },
      "text/plain": [
       "config.json:   0%|          | 0.00/695 [00:00<?, ?B/s]"
      ]
     },
     "metadata": {},
     "output_type": "display_data"
    },
    {
     "data": {
      "application/vnd.jupyter.widget-view+json": {
       "model_id": "4bfaef93f5a549799b5cd0ac94d36a38",
       "version_major": 2,
       "version_minor": 0
      },
      "text/plain": [
       "model.safetensors.index.json:   0%|          | 0.00/35.8k [00:00<?, ?B/s]"
      ]
     },
     "metadata": {},
     "output_type": "display_data"
    },
    {
     "data": {
      "application/vnd.jupyter.widget-view+json": {
       "model_id": "ae5f4c9b073f4d719b30dc8031e0d987",
       "version_major": 2,
       "version_minor": 0
      },
      "text/plain": [
       "Downloading shards:   0%|          | 0/5 [00:00<?, ?it/s]"
      ]
     },
     "metadata": {},
     "output_type": "display_data"
    },
    {
     "data": {
      "application/vnd.jupyter.widget-view+json": {
       "model_id": "560aaf0e4d2947ec9aa2bce5945c8749",
       "version_major": 2,
       "version_minor": 0
      },
      "text/plain": [
       "model-00001-of-00005.safetensors:   0%|          | 0.00/4.90G [00:00<?, ?B/s]"
      ]
     },
     "metadata": {},
     "output_type": "display_data"
    },
    {
     "data": {
      "application/vnd.jupyter.widget-view+json": {
       "model_id": "ba5167832b6c407d8fe186e939cbd655",
       "version_major": 2,
       "version_minor": 0
      },
      "text/plain": [
       "model-00002-of-00005.safetensors:   0%|          | 0.00/4.92G [00:00<?, ?B/s]"
      ]
     },
     "metadata": {},
     "output_type": "display_data"
    },
    {
     "data": {
      "application/vnd.jupyter.widget-view+json": {
       "model_id": "790ad8acd53a45c6a81baa87d699de00",
       "version_major": 2,
       "version_minor": 0
      },
      "text/plain": [
       "model-00003-of-00005.safetensors:   0%|          | 0.00/5.00G [00:00<?, ?B/s]"
      ]
     },
     "metadata": {},
     "output_type": "display_data"
    },
    {
     "data": {
      "application/vnd.jupyter.widget-view+json": {
       "model_id": "898426fcb784481eac88b2562c9e9e4d",
       "version_major": 2,
       "version_minor": 0
      },
      "text/plain": [
       "model-00004-of-00005.safetensors:   0%|          | 0.00/4.92G [00:00<?, ?B/s]"
      ]
     },
     "metadata": {},
     "output_type": "display_data"
    },
    {
     "data": {
      "application/vnd.jupyter.widget-view+json": {
       "model_id": "82ac739ff2af4eddba896c26f3e4dcee",
       "version_major": 2,
       "version_minor": 0
      },
      "text/plain": [
       "model-00005-of-00005.safetensors:   0%|          | 0.00/1.88G [00:00<?, ?B/s]"
      ]
     },
     "metadata": {},
     "output_type": "display_data"
    },
    {
     "data": {
      "application/vnd.jupyter.widget-view+json": {
       "model_id": "0f5e1007de234bb293e87fc8429c28b9",
       "version_major": 2,
       "version_minor": 0
      },
      "text/plain": [
       "Loading checkpoint shards:   0%|          | 0/5 [00:00<?, ?it/s]"
      ]
     },
     "metadata": {},
     "output_type": "display_data"
    },
    {
     "data": {
      "text/plain": [
       "('./models/model/tokenizer_config.json',\n",
       " './models/model/special_tokens_map.json',\n",
       " './models/model/tokenizer.json')"
      ]
     },
     "execution_count": 7,
     "metadata": {},
     "output_type": "execute_result"
    }
   ],
   "source": [
    "# Download and save the tokenizer, model\n",
    "tokenizer = AutoTokenizer.from_pretrained(model_name)\n",
    "model = AutoModelForCausalLM.from_pretrained(model_name)\n",
    "\n",
    "os.makedirs(model_dir, exist_ok=True)\n",
    "\n",
    "model.save_pretrained(model_dir)\n",
    "tokenizer.save_pretrained(model_dir)"
   ]
  },
  {
   "cell_type": "markdown",
   "id": "c6e8698b-d411-4264-93ef-ff50ac2b4c09",
   "metadata": {},
   "source": [
    "# Set Up MLflow Credential and Environment values\n",
    "\n",
    "Set up MLflow for model tracking and register the model. Include authentication if necessary."
   ]
  },
  {
   "cell_type": "code",
   "execution_count": 8,
   "id": "f2f9bb9e-962a-4ed7-9cf2-84a0efc0791e",
   "metadata": {},
   "outputs": [
    {
     "data": {
      "application/vnd.jupyter.widget-view+json": {
       "model_id": "8a339367bd3a4f72b9ffc08395034d1f",
       "version_major": 2,
       "version_minor": 0
      },
      "text/plain": [
       "HTML(value='<h2>MLflow Credentials</h2>')"
      ]
     },
     "metadata": {},
     "output_type": "display_data"
    },
    {
     "data": {
      "application/vnd.jupyter.widget-view+json": {
       "model_id": "2638f834e7b845dbbb2b3da047d02ceb",
       "version_major": 2,
       "version_minor": 0
      },
      "text/plain": [
       "Text(value='', description='Domain:', placeholder='ua.ezm.host')"
      ]
     },
     "metadata": {},
     "output_type": "display_data"
    },
    {
     "data": {
      "application/vnd.jupyter.widget-view+json": {
       "model_id": "e762ed8ac65e4fdc8be86fafd9d921e3",
       "version_major": 2,
       "version_minor": 0
      },
      "text/plain": [
       "Text(value='', description='Username:')"
      ]
     },
     "metadata": {},
     "output_type": "display_data"
    },
    {
     "data": {
      "application/vnd.jupyter.widget-view+json": {
       "model_id": "fda803e3aee34882b26975806ca18192",
       "version_major": 2,
       "version_minor": 0
      },
      "text/plain": [
       "Password(description='Password:')"
      ]
     },
     "metadata": {},
     "output_type": "display_data"
    },
    {
     "data": {
      "application/vnd.jupyter.widget-view+json": {
       "model_id": "a759d6c1bb694c70870941aa673a5825",
       "version_major": 2,
       "version_minor": 0
      },
      "text/plain": [
       "Button(description='Submit', layout=Layout(margin='20px 0 20px 0'), style=ButtonStyle())"
      ]
     },
     "metadata": {},
     "output_type": "display_data"
    },
    {
     "data": {
      "application/vnd.jupyter.widget-view+json": {
       "model_id": "40bd710505054f659aad1ca65da303f6",
       "version_major": 2,
       "version_minor": 0
      },
      "text/plain": [
       "Output()"
      ]
     },
     "metadata": {},
     "output_type": "display_data"
    }
   ],
   "source": [
    "# Add heading\n",
    "heading = widgets.HTML(\"<h2>MLflow Credentials</h2>\")\n",
    "display(heading)\n",
    "\n",
    "domain_input = widgets.Text(description='Domain:', placeholder=\"ua.ezm.host\")\n",
    "username_input = widgets.Text(description='Username:')\n",
    "password_input = widgets.Password(description='Password:')\n",
    "submit_button = widgets.Button(description='Submit')\n",
    "success_message = widgets.Output()\n",
    "\n",
    "domain = None\n",
    "mlflow_username = None\n",
    "mlflow_password = None\n",
    "\n",
    "def submit_button_clicked(b):\n",
    "    global domain, mlflow_username, mlflow_password\n",
    "    domain = domain_input.value\n",
    "    mlflow_username = username_input.value\n",
    "    mlflow_password = password_input.value\n",
    "    with success_message:\n",
    "        success_message.clear_output()\n",
    "        print(\"Credentials submitted successfully!\")\n",
    "    submit_button.disabled = True\n",
    "\n",
    "submit_button.on_click(submit_button_clicked)\n",
    "\n",
    "# Set margin on the submit button\n",
    "submit_button.layout.margin = '20px 0 20px 0'\n",
    "\n",
    "# Display inputs and button\n",
    "display(domain_input, username_input, password_input, submit_button, success_message)"
   ]
  },
  {
   "cell_type": "code",
   "execution_count": 9,
   "id": "c4288943-0805-47c8-a792-102311e48fe4",
   "metadata": {},
   "outputs": [
    {
     "name": "stderr",
     "output_type": "stream",
     "text": [
      "/opt/conda/lib/python3.8/site-packages/urllib3/connectionpool.py:1061: InsecureRequestWarning: Unverified HTTPS request is being made to host 'keycloak.ezua1.local'. Adding certificate verification is strongly advised. See: https://urllib3.readthedocs.io/en/1.26.x/advanced-usage.html#ssl-warnings\n",
      "  warnings.warn(\n"
     ]
    }
   ],
   "source": [
    "token_url = f\"https://keycloak.{domain}/realms/UA/protocol/openid-connect/token\"\n",
    "\n",
    "data = {\n",
    "    \"username\" : mlflow_username,\n",
    "    \"password\" : mlflow_password,\n",
    "    \"grant_type\" : \"password\",\n",
    "    \"client_id\" : \"ua-grant\",\n",
    "}\n",
    "\n",
    "token_responce = requests.post(token_url, data=data, allow_redirects=True, verify=False)\n",
    "\n",
    "token = token_responce.json()[\"access_token\"]"
   ]
  },
  {
   "cell_type": "code",
   "execution_count": 10,
   "id": "2a0e8df4-9150-4c33-a960-5106436647fb",
   "metadata": {},
   "outputs": [],
   "source": [
    "os.environ['MLFLOW_TRACKING_TOKEN'] = token\n",
    "os.environ[\"AWS_ACCESS_KEY_ID\"] = os.environ['MLFLOW_TRACKING_TOKEN']\n",
    "os.environ[\"AWS_SECRET_ACCESS_KEY\"] = \"s3\"\n",
    "os.environ[\"AWS_ENDPOINT_URL\"] = 'http://local-s3-service.ezdata-system.svc.cluster.local:30000'\n",
    "os.environ[\"MLFLOW_S3_ENDPOINT_URL\"] = os.environ[\"AWS_ENDPOINT_URL\"]\n",
    "os.environ[\"MLFLOW_S3_IGNORE_TLS\"] = \"true\"\n",
    "os.environ[\"MLFLOW_TRACKING_INSECURE_TLS\"] = \"true\"\n",
    "os.environ[\"MLFLOW_TRACKING_URI\"] = \"http://mlflow.mlflow.svc.cluster.local:5000\""
   ]
  },
  {
   "cell_type": "markdown",
   "id": "c25606b8-19a0-42bf-83b3-c09562f37326",
   "metadata": {},
   "source": [
    "# Logging the Downloaded Model as an Artifact\n",
    "\n",
    "To begin, you create a new experiment or utilize an existing one and log the model as an artifact of this\n",
    "experiment. Ultimately, you retrieve the URI that points to this artifact's location and provide it to the custom\n",
    "predictor component. By doing this, the custom predictor component understands how to fetch the artifact and serve it\n",
    "effectively."
   ]
  },
  {
   "cell_type": "code",
   "execution_count": 11,
   "id": "b1654ebf-f83f-4c70-8da0-67ac57726dec",
   "metadata": {},
   "outputs": [],
   "source": [
    "def get_or_create_experiment(exp_name):\n",
    "    \"\"\"Register an experiment in MLFlow.\n",
    "    \n",
    "    args:\n",
    "      exp_name (str): The name of the experiment.\n",
    "    \"\"\"\n",
    "    try:\n",
    "        mlflow.set_experiment(exp_name)\n",
    "    except Exception as e:\n",
    "        raise RuntimeError(f\"Failed to set the experiment: {e}\")"
   ]
  },
  {
   "cell_type": "code",
   "execution_count": 12,
   "id": "cc892254-69cf-43ae-94fe-58209a38afb7",
   "metadata": {},
   "outputs": [],
   "source": [
    "# Create a new MLFlow experiment or re-use an existing one\n",
    "get_or_create_experiment('text-generation-models')"
   ]
  },
  {
   "cell_type": "code",
   "execution_count": 13,
   "id": "5d4c35ee-493b-4366-8419-4b58804dd462",
   "metadata": {
    "tags": []
   },
   "outputs": [
    {
     "data": {
      "application/vnd.jupyter.widget-view+json": {
       "model_id": "b1fc3ff820774b2ea87d0dc9ada76d65",
       "version_major": 2,
       "version_minor": 0
      },
      "text/plain": [
       "Downloading artifacts:   0%|          | 0/15 [00:00<?, ?it/s]"
      ]
     },
     "metadata": {},
     "output_type": "display_data"
    },
    {
     "name": "stderr",
     "output_type": "stream",
     "text": [
      "2024/06/07 06:59:42 INFO mlflow.store.artifact.artifact_repo: The progress bar can be disabled by setting the environment variable MLFLOW_ENABLE_ARTIFACTS_PROGRESS_BAR to false\n",
      "2024/06/07 07:07:22 WARNING mlflow.utils.environment: Encountered an unexpected error while inferring pip requirements (model URI: /tmp/tmpptc4qz3z/model, flavor: python_function), fall back to return ['cloudpickle==3.0.0']. Set logging level to DEBUG to see the full traceback.\n"
     ]
    }
   ],
   "source": [
    "#  Log the downloaded model as an artifact of the experiment\n",
    "class LLMModelWrapper(mlflow.pyfunc.PythonModel):\n",
    "    def load_context(self, context):\n",
    "        from transformers import AutoModelForCausalLM, AutoTokenizer\n",
    "        self.tokenizer = AutoTokenizer.from_pretrained(context.artifacts[\"model_dir\"])\n",
    "        self.model = AutoModelForCausalLM.from_pretrained(context.artifacts[\"model_dir\"])\n",
    "\n",
    "    def predict(self, context, model_input):\n",
    "        inputs = self.tokenizer(model_input, return_tensors=\"pt\")\n",
    "        outputs = self.model.generate(inputs[\"input_ids\"], max_length=50)\n",
    "        return self.tokenizer.decode(outputs[0], skip_special_tokens=True)\n",
    "    \n",
    "with mlflow.start_run() as run:\n",
    "    mlflow.pyfunc.log_model(\n",
    "        artifact_path=\"model\",\n",
    "        python_model=LLMModelWrapper(),\n",
    "        artifacts={\"model_dir\": model_dir},\n",
    "    )\n",
    "    uri_path = \"model\"\n",
    "    \n",
    "    model_uri = f\"runs:/{run.info.run_id}/{uri_path}\""
   ]
  },
  {
   "cell_type": "markdown",
   "id": "b9a8fd28-4275-430f-a3c2-6c875f0b7d8f",
   "metadata": {},
   "source": [
    "# Register the model to MLflow Model registry"
   ]
  },
  {
   "cell_type": "code",
   "execution_count": 14,
   "id": "a5cc8f69-a04c-4cec-b6ce-86b7727e517e",
   "metadata": {},
   "outputs": [
    {
     "name": "stderr",
     "output_type": "stream",
     "text": [
      "Registered model 'yanolja/EEVE-Korean-10.8B-v1.0' already exists. Creating a new version of this model...\n",
      "2024/06/07 07:27:19 INFO mlflow.store.model_registry.abstract_store: Waiting up to 300 seconds for model version to finish creation. Model name: yanolja/EEVE-Korean-10.8B-v1.0, version 1\n"
     ]
    },
    {
     "name": "stdout",
     "output_type": "stream",
     "text": [
      "Model registered with name: yanolja/EEVE-Korean-10.8B-v1.0 and version: 1\n"
     ]
    },
    {
     "name": "stderr",
     "output_type": "stream",
     "text": [
      "Created version '1' of model 'yanolja/EEVE-Korean-10.8B-v1.0'.\n"
     ]
    }
   ],
   "source": [
    "result = mlflow.register_model(model_uri, model_name)\n",
    "\n",
    "print(f\"Model registered with name: {model_name} and version: {result.version}\")"
   ]
  },
  {
   "cell_type": "code",
   "execution_count": null,
   "id": "bd44b2a7-8a97-4daf-90b1-68915397566d",
   "metadata": {},
   "outputs": [],
   "source": [
    "#loaded_model = mlflow.pyfunc.load_model(model_uri)\n",
    "#sample_input = [\"This is a sample input for the gpt2 model.\"]\n",
    "#predicted_probs = loaded_model.predict(sample_input)\n",
    "#print(predicted_probs)"
   ]
  },
  {
   "cell_type": "code",
   "execution_count": null,
   "id": "78e30d6a-511a-4f4a-9fc7-8a7f97db6ff4",
   "metadata": {},
   "outputs": [],
   "source": []
  }
 ],
 "metadata": {
  "kernelspec": {
   "display_name": "Python 3 (ipykernel)",
   "language": "python",
   "name": "python3"
  },
  "language_info": {
   "codemirror_mode": {
    "name": "ipython",
    "version": 3
   },
   "file_extension": ".py",
   "mimetype": "text/x-python",
   "name": "python",
   "nbconvert_exporter": "python",
   "pygments_lexer": "ipython3",
   "version": "3.8.10"
  }
 },
 "nbformat": 4,
 "nbformat_minor": 5
}
