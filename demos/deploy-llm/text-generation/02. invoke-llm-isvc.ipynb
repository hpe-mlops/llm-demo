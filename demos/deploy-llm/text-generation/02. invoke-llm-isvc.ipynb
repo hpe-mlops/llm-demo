{
 "cells": [
  {
   "cell_type": "markdown",
   "id": "972db2df-307f-4492-80c6-e84082d778f2",
   "metadata": {
    "tags": []
   },
   "source": [
    "# Invoking and Testing the Vector Store Inference Service (Optional)\n",
    "\n",
    "Welcome to the third part of the tutorial series on building a question-answering application over a corpus of private\n",
    "documents using Large Language Models (LLMs). In the previous Notebooks, you've transformed unstructured text data into\n",
    "structured vector embeddings, stored them in a Vector Store, deployed an Inference Service (ISVC) to serve the Vector Store,\n",
    "and deploy the fine-tuned embeddings model using KServe and Triton.\n",
    "\n",
    "In this Notebook, you focus on invoking the Vector Store ISVC you've created and testing its performance. This\n",
    "is an essential step, as it allows you to verify the functionality of your service and observe how it performs in\n",
    "practice. Throughout this Notebook, you construct suitable requests, communicate with the service, and interpret the\n",
    "responses.\n",
    "\n",
    "By the end of this Notebook, you will gain practical insights into the workings of the Vector Store ISVC and will be\n",
    "well-prepared to integrate it into a larger system, alongside the LLM ISVC that you create in the subsequent Notebook.\n",
    "\n",
    "## Table of Contents\n",
    "\n",
    "1. [Invoke the Inference Service](#invoke-the-inference-service)\n",
    "1. [Conclusion and Next Steps](#conclusion-and-next-steps)"
   ]
  },
  {
   "cell_type": "code",
   "execution_count": 2,
   "id": "428fd850-d35a-476f-ba05-b11763ddec68",
   "metadata": {
    "tags": []
   },
   "outputs": [],
   "source": [
    "import json\n",
    "import requests\n",
    "import ipywidgets as widgets\n",
    "\n",
    "from IPython.display import display"
   ]
  },
  {
   "cell_type": "markdown",
   "id": "f1f8bb43-af00-4dae-bf22-dec236bcafe7",
   "metadata": {
    "tags": []
   },
   "source": [
    "# Invoke the Inference Service\n",
    "\n",
    "First, you need to construct the URL you use in POST request. For this example, you use the V1 inference protocol,\n",
    "described below:\n",
    "\n",
    "| API          | Verb | Path                          | Request Payload   | Response Payload                  |\n",
    "|--------------|------|-------------------------------|-------------------|-----------------------------------|\n",
    "| List Models  | GET  | /v1/models                    |                   | {\"models\": [<model_name>]}        |\n",
    "| Model Ready  | GET  | /v1/models/<model_name>       |                   | {\"name\": <model_name>,\"ready\": $bool} |\n",
    "| Predict      | POST | /v1/models/<model_name>:predict | {\"instances\": []}* | {\"predictions\": []}              |\n",
    "| Explain      | POST | /v1/models/<model_name>:explain | {\"instances\": []}* | {\"predictions\": [], \"explanations\": []} |\n",
    "\n",
    "\\* Payload is optional\n",
    "\n",
    "You want to invoke the `predict` API. So let's use a simple query to test the service:"
   ]
  },
  {
   "cell_type": "code",
   "execution_count": 11,
   "id": "e060904d-a7b8-4835-99d6-f9890b6afbf9",
   "metadata": {},
   "outputs": [
    {
     "data": {
      "application/vnd.jupyter.widget-view+json": {
       "model_id": "1630b901fd43462aa24250361bbee5ec",
       "version_major": 2,
       "version_minor": 0
      },
      "text/plain": [
       "HTML(value='<h2>Credentials</h2>')"
      ]
     },
     "metadata": {},
     "output_type": "display_data"
    },
    {
     "data": {
      "application/vnd.jupyter.widget-view+json": {
       "model_id": "10e2bb9e36844d34b7daaa7dfed8c2c2",
       "version_major": 2,
       "version_minor": 0
      },
      "text/plain": [
       "Text(value='', description='Domain:', placeholder='ezua1.local')"
      ]
     },
     "metadata": {},
     "output_type": "display_data"
    },
    {
     "data": {
      "application/vnd.jupyter.widget-view+json": {
       "model_id": "d6e775057d854d878dbcffc38eda2e01",
       "version_major": 2,
       "version_minor": 0
      },
      "text/plain": [
       "Text(value='', description='Username:')"
      ]
     },
     "metadata": {},
     "output_type": "display_data"
    },
    {
     "data": {
      "application/vnd.jupyter.widget-view+json": {
       "model_id": "48ad287be98b4997a4b169eb3289d72f",
       "version_major": 2,
       "version_minor": 0
      },
      "text/plain": [
       "Password(description='Password:')"
      ]
     },
     "metadata": {},
     "output_type": "display_data"
    },
    {
     "data": {
      "application/vnd.jupyter.widget-view+json": {
       "model_id": "2730c35ffb134cdbbb4268769b9d5d6c",
       "version_major": 2,
       "version_minor": 0
      },
      "text/plain": [
       "Text(value='', description='Inference Service Name:', placeholder='vllm-triton')"
      ]
     },
     "metadata": {},
     "output_type": "display_data"
    },
    {
     "data": {
      "application/vnd.jupyter.widget-view+json": {
       "model_id": "6c1219836f0844b294fb14d82138a4df",
       "version_major": 2,
       "version_minor": 0
      },
      "text/plain": [
       "Text(value='', description='Namespace:', placeholder='chowoocheol-bbfad8a6')"
      ]
     },
     "metadata": {},
     "output_type": "display_data"
    },
    {
     "data": {
      "application/vnd.jupyter.widget-view+json": {
       "model_id": "a9231f95fd9a46778d81190ca9af25bb",
       "version_major": 2,
       "version_minor": 0
      },
      "text/plain": [
       "Button(description='Submit', layout=Layout(margin='20px 0 20px 0'), style=ButtonStyle())"
      ]
     },
     "metadata": {},
     "output_type": "display_data"
    },
    {
     "data": {
      "application/vnd.jupyter.widget-view+json": {
       "model_id": "106db0b302514de2b15c0f671c8b8edc",
       "version_major": 2,
       "version_minor": 0
      },
      "text/plain": [
       "Output()"
      ]
     },
     "metadata": {},
     "output_type": "display_data"
    }
   ],
   "source": [
    "# Add heading\n",
    "heading = widgets.HTML(\"<h2>Credentials</h2>\")\n",
    "display(heading)\n",
    "\n",
    "domain_input = widgets.Text(description='Domain:', placeholder=\"ezua1.local\")\n",
    "username_input = widgets.Text(description='Username:')\n",
    "password_input = widgets.Password(description='Password:')\n",
    "name_input = widgets.Text(description='Inference Service Name:', placeholder=\"vllm-triton\")\n",
    "namespace_input = widgets.Text(description='Namespace:', placeholder=\"chowoocheol-bbfad8a6\")\n",
    "submit_button = widgets.Button(description='Submit')\n",
    "success_message = widgets.Output()\n",
    "\n",
    "domain = None\n",
    "username = None\n",
    "password = None\n",
    "\n",
    "def submit_button_clicked(b):\n",
    "    global domain, username, password, name, namespace\n",
    "    domain = domain_input.value\n",
    "    username = username_input.value\n",
    "    password = password_input.value\n",
    "    name = name_input.value\n",
    "    namespace = namespace_input.value\n",
    "    with success_message:\n",
    "        success_message.clear_output()\n",
    "        print(\"Credentials submitted successfully!\")\n",
    "    submit_button.disabled = True\n",
    "\n",
    "submit_button.on_click(submit_button_clicked)\n",
    "\n",
    "# Set margin on the submit button\n",
    "submit_button.layout.margin = '20px 0 20px 0'\n",
    "\n",
    "# Display inputs and button\n",
    "display(domain_input, username_input, password_input, name_input, namespace_input, submit_button, success_message)"
   ]
  },
  {
   "cell_type": "code",
   "execution_count": 12,
   "id": "4c546186-ac65-457b-b4fd-bb86767cc3d4",
   "metadata": {},
   "outputs": [
    {
     "name": "stderr",
     "output_type": "stream",
     "text": [
      "/opt/conda/lib/python3.8/site-packages/urllib3/connectionpool.py:1061: InsecureRequestWarning: Unverified HTTPS request is being made to host 'keycloak.ezua1.local'. Adding certificate verification is strongly advised. See: https://urllib3.readthedocs.io/en/1.26.x/advanced-usage.html#ssl-warnings\n",
      "  warnings.warn(\n"
     ]
    }
   ],
   "source": [
    "token_url = f\"https://keycloak.{domain}/realms/UA/protocol/openid-connect/token\"\n",
    "\n",
    "data = {\n",
    "    \"username\" : username,\n",
    "    \"password\" : password,\n",
    "    \"grant_type\" : \"password\",\n",
    "    \"client_id\" : \"ua-grant\",\n",
    "}\n",
    "\n",
    "token_responce = requests.post(token_url, data=data, allow_redirects=True, verify=False)\n",
    "\n",
    "token = token_responce.json()[\"access_token\"]"
   ]
  },
  {
   "cell_type": "code",
   "execution_count": 17,
   "id": "173e2ebd-5e3b-4289-8358-9406ba816921",
   "metadata": {
    "tags": []
   },
   "outputs": [
    {
     "name": "stdout",
     "output_type": "stream",
     "text": [
      "https://vllm-triton-tm-predictor.chowoocheol-bbfad8a6.svc.cluster.local/v2/models/vllm_model/generate\n"
     ]
    }
   ],
   "source": [
    "SVC = f'{name}-predictor.{namespace}.svc.cluster.local'\n",
    "URL = f\"https://{SVC}/v2/models/vllm_model/generate\"\n",
    "print(URL)"
   ]
  },
  {
   "cell_type": "code",
   "execution_count": 18,
   "id": "78da091c-9fce-4f91-8382-e5c785bdf24f",
   "metadata": {
    "tags": []
   },
   "outputs": [
    {
     "name": "stderr",
     "output_type": "stream",
     "text": [
      "/opt/conda/lib/python3.8/site-packages/urllib3/connectionpool.py:1061: InsecureRequestWarning: Unverified HTTPS request is being made to host 'vllm-triton-tm-predictor.chowoocheol-bbfad8a6.svc.cluster.local'. Adding certificate verification is strongly advised. See: https://urllib3.readthedocs.io/en/1.26.x/advanced-usage.html#ssl-warnings\n",
      "  warnings.warn(\n"
     ]
    },
    {
     "data": {
      "text/plain": [
       "'{\"model_name\":\"vllm_model\",\"model_version\":\"1\",\"text_output\":\"대만의 수도는 어디인가요? – 대만 여행 가이드 - 대만 여행 가이드\\\\n대만의 수도는 어디인가요?\\\\n대만의 수도는 대만 남동부에 위치한 타이베이입니다. 대만에는 총 4개의 수도가 있습니다: 타이베이, 마카오, 윈난성, 그리고 윈난성 수도입니다. 대만의 수도는 대만에서 가장 큰 도시이며, 대만 국민들의 주요 거주지입니다.\\\\n대만의 수도, 타이베이\\\\n대만의 수도, 타이\"}'"
      ]
     },
     "execution_count": 18,
     "metadata": {},
     "output_type": "execute_result"
    }
   ],
   "source": [
    "data = {\"text_input\": \"대만의 수도는 어디인가요? \", \"parameters\": {\"stream\": False, \"temperature\": 0,  \"max_tokens\": 100}}\n",
    "headers = {\"Authorization\": f\"Bearer {token}\"}\n",
    "response = requests.post(URL, json=data, headers=headers, verify=False)\n",
    "response.text"
   ]
  },
  {
   "cell_type": "markdown",
   "id": "0e6c9e0e-6d17-4d15-ba4e-e353cc1cd3c2",
   "metadata": {
    "tags": []
   },
   "source": [
    "# Conclusion and Next Steps\n",
    "\n",
    "Well done! Through this Notebook, you've successfully interacted with and tested the Vector Store ISVC. You've learned\n",
    "how to construct and send requests to the service and how to interpret the responses. This hands-on experience is\n",
    "crucial as it provides a practical understanding of the service's operation, preparing you for real-world applications.\n",
    "\n",
    "In the next Notebook, you extend your question-answering system by creating an ISVC for the LLM. The LLM ISVC works in\n",
    "conjunction with the Vector Store ISVC to provide comprehensive and accurate answers to user queries."
   ]
  }
 ],
 "metadata": {
  "kernelspec": {
   "display_name": "Python 3 (ipykernel)",
   "language": "python",
   "name": "python3"
  },
  "language_info": {
   "codemirror_mode": {
    "name": "ipython",
    "version": 3
   },
   "file_extension": ".py",
   "mimetype": "text/x-python",
   "name": "python",
   "nbconvert_exporter": "python",
   "pygments_lexer": "ipython3",
   "version": "3.8.10"
  }
 },
 "nbformat": 4,
 "nbformat_minor": 5
}