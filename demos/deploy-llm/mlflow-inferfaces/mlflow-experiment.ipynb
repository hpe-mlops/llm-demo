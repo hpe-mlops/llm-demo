{
 "cells": [
  {
   "cell_type": "markdown",
   "id": "96a4e3b7-0dae-4003-b5fa-08e9b3c2fb81",
   "metadata": {},
   "source": [
    "# MLflow Interface\n",
    "\n",
    "## Table of Contents\n",
    "\n",
    "1. [Set Up MLflow Credential and Environment values](#Set-Up-MLflow-Credential-and-Environment-values)\n",
    "2. [Get Experiments List and Details](#Get-Experiments-List-and-Details)"
   ]
  },
  {
   "cell_type": "code",
   "execution_count": null,
   "id": "19ce5801-9e24-415c-9963-6f95e3a3e33b",
   "metadata": {},
   "outputs": [],
   "source": [
    "import os\n",
    "import mlflow\n",
    "from mlflow.tracking import MlflowClient\n",
    "import requests\n",
    "import ipywidgets as widgets\n",
    "\n",
    "from IPython.display import display"
   ]
  },
  {
   "cell_type": "code",
   "execution_count": null,
   "id": "e2e28d67-2cd4-4ed6-9ee8-e0e62589c0e7",
   "metadata": {},
   "outputs": [],
   "source": [
    "domain = \"ezua1.local\"\n",
    "mlflow_username = \"chowoocheol@gmail.com\"\n",
    "mlflow_password = \"userdemo1!\""
   ]
  },
  {
   "cell_type": "markdown",
   "id": "873a5265-244d-487d-a862-983410881545",
   "metadata": {
    "tags": []
   },
   "source": [
    "# Set Up MLflow Credential and Environment values\n",
    "\n",
    "Set up MLflow for model tracking and register the model. Include authentication if necessary."
   ]
  },
  {
   "cell_type": "code",
   "execution_count": null,
   "id": "ec85fe25-4788-443c-ae81-627d6fd320e0",
   "metadata": {},
   "outputs": [],
   "source": [
    "# Add heading\n",
    "heading = widgets.HTML(\"<h2>MLflow Credentials</h2>\")\n",
    "display(heading)\n",
    "\n",
    "domain_input = widgets.Text(description='Domain:', placeholder=\"ua.ezm.host\")\n",
    "username_input = widgets.Text(description='Username:')\n",
    "password_input = widgets.Password(description='Password:')\n",
    "submit_button = widgets.Button(description='Submit')\n",
    "success_message = widgets.Output()\n",
    "\n",
    "domain = None\n",
    "mlflow_username = None\n",
    "mlflow_password = None\n",
    "\n",
    "def submit_button_clicked(b):\n",
    "    global domain, mlflow_username, mlflow_password\n",
    "    domain = domain_input.value\n",
    "    mlflow_username = username_input.value\n",
    "    mlflow_password = password_input.value\n",
    "    with success_message:\n",
    "        success_message.clear_output()\n",
    "        print(\"Credentials submitted successfully!\")\n",
    "    submit_button.disabled = True\n",
    "\n",
    "submit_button.on_click(submit_button_clicked)\n",
    "\n",
    "# Set margin on the submit button\n",
    "submit_button.layout.margin = '20px 0 20px 0'\n",
    "\n",
    "# Display inputs and button\n",
    "display(domain_input, username_input, password_input, submit_button, success_message)"
   ]
  },
  {
   "cell_type": "code",
   "execution_count": null,
   "id": "76835a68-0079-4fd3-a01e-98b5cfe41c41",
   "metadata": {},
   "outputs": [],
   "source": [
    "token_url = f\"https://keycloak.{domain}/realms/UA/protocol/openid-connect/token\"\n",
    "\n",
    "data = {\n",
    "    \"username\" : mlflow_username,\n",
    "    \"password\" : mlflow_password,\n",
    "    \"grant_type\" : \"password\",\n",
    "    \"client_id\" : \"ua-grant\",\n",
    "}\n",
    "\n",
    "token_responce = requests.post(token_url, data=data, allow_redirects=True, verify=False)\n",
    "\n",
    "token = token_responce.json()[\"access_token\"]"
   ]
  },
  {
   "cell_type": "code",
   "execution_count": null,
   "id": "a5ef82bc-6ea6-43bc-a757-0bbf5c133810",
   "metadata": {},
   "outputs": [],
   "source": [
    "os.environ['MLFLOW_TRACKING_TOKEN'] = token\n",
    "os.environ[\"AWS_ACCESS_KEY_ID\"] = os.environ['MLFLOW_TRACKING_TOKEN']\n",
    "os.environ[\"AWS_SECRET_ACCESS_KEY\"] = \"s3\"\n",
    "os.environ[\"AWS_ENDPOINT_URL\"] = 'http://local-s3-service.ezdata-system.svc.cluster.local:30000'\n",
    "os.environ[\"MLFLOW_S3_ENDPOINT_URL\"] = os.environ[\"AWS_ENDPOINT_URL\"]\n",
    "os.environ[\"MLFLOW_S3_IGNORE_TLS\"] = \"true\"\n",
    "os.environ[\"MLFLOW_TRACKING_INSECURE_TLS\"] = \"true\"\n",
    "os.environ[\"MLFLOW_TRACKING_URI\"] = \"http://mlflow.mlflow.svc.cluster.local:5000\""
   ]
  },
  {
   "cell_type": "markdown",
   "id": "8349c048-cb5e-45a1-99b2-73e8bc72a035",
   "metadata": {},
   "source": [
    "# Get Experiments List and Details\n",
    "\n",
    "get information of experemens"
   ]
  },
  {
   "cell_type": "code",
   "execution_count": null,
   "id": "9549be4d-d5a1-4e96-ad97-6175a1b18c0a",
   "metadata": {},
   "outputs": [],
   "source": [
    "# Function to list all experiments\n",
    "def list_experiments():\n",
    "    experiments = client.search_experiments()\n",
    "    return experiments\n",
    "\n",
    "# Function to get details of a specific experiment\n",
    "def get_experiment_details(experiment_id):\n",
    "    try:\n",
    "        experiment = client.get_experiment(experiment_id)\n",
    "        experiment_details = {\n",
    "            \"experiment_id\": experiment.experiment_id,\n",
    "            \"name\": experiment.name,\n",
    "            \"artifact_location\": experiment.artifact_location,\n",
    "            \"lifecycle_stage\": experiment.lifecycle_stage,\n",
    "            \"tags\": experiment.tags,\n",
    "            \"last_update_time\": experiment.last_update_time\n",
    "        }\n",
    "        \n",
    "        # Retrieve runs for the specific experiment\n",
    "        runs = client.search_runs(experiment_ids=[experiment_id])\n",
    "        run_details = []\n",
    "        for run in runs:\n",
    "            run_info = {\n",
    "                \"run_id\": run.info.run_id,\n",
    "                \"start_time\": run.info.start_time,\n",
    "                \"end_time\": run.info.end_time,\n",
    "                \"status\": run.info.status,\n",
    "                \"artifact_uri\": run.info.artifact_uri\n",
    "            }\n",
    "            run_details.append(run_info)\n",
    "        \n",
    "        experiment_details[\"runs\"] = run_details\n",
    "        return experiment_details\n",
    "    \n",
    "    except Exception as e:\n",
    "        print(f\"Error retrieving details for experiment '{experiment_id}': {e}\")\n",
    "        return None"
   ]
  },
  {
   "cell_type": "code",
   "execution_count": null,
   "id": "ca1f7958-6ed2-4930-92a7-c2c6f7061cb3",
   "metadata": {},
   "outputs": [],
   "source": [
    "# List all experiments\n",
    "experiments = list_experiments()\n",
    "print(\"Experiments:\")\n",
    "for experiment in experiments:\n",
    "    print(f\"- ID: {experiment.experiment_id}, Name: {experiment.name}\")\n",
    "    \n",
    "# Prompt the user to enter the experiment ID they want to query\n",
    "experiment_id = input(\"Enter the experiment ID you want to query: \")\n",
    "\n",
    "# Retrieve and display the details for the specified experiment\n",
    "details = get_experiment_details(experiment_id)\n",
    "\n",
    "if details:\n",
    "    print(f\"\\nDetails for experiment '{experiment_id}':\")\n",
    "    print(details)\n",
    "else:\n",
    "    print(f\"No details found for experiment '{experiment_id}'\")"
   ]
  }
 ],
 "metadata": {
  "kernelspec": {
   "display_name": "Python 3 (ipykernel)",
   "language": "python",
   "name": "python3"
  },
  "language_info": {
   "codemirror_mode": {
    "name": "ipython",
    "version": 3
   },
   "file_extension": ".py",
   "mimetype": "text/x-python",
   "name": "python",
   "nbconvert_exporter": "python",
   "pygments_lexer": "ipython3",
   "version": "3.8.10"
  }
 },
 "nbformat": 4,
 "nbformat_minor": 5
}
