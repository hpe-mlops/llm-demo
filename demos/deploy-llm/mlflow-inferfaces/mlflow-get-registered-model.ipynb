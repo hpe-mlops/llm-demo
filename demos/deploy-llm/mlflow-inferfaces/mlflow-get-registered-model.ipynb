{
 "cells": [
  {
   "cell_type": "markdown",
   "id": "96a4e3b7-0dae-4003-b5fa-08e9b3c2fb81",
   "metadata": {},
   "source": [
    "# MLflow Interface\n",
    "\n",
    "## Table of Contents\n",
    "\n",
    "1. [Set Up MLflow Credential and Environment values](#Set-Up-MLflow-Credential-and-Environment-values)\n",
    "2. [Get Registerd Model List and Model Details](#Get-Registerd-Model-List-and-Model-Details)"
   ]
  },
  {
   "cell_type": "code",
   "execution_count": null,
   "id": "19ce5801-9e24-415c-9963-6f95e3a3e33b",
   "metadata": {},
   "outputs": [],
   "source": [
    "import os\n",
    "import mlflow\n",
    "from mlflow.tracking import MlflowClient\n",
    "import requests\n",
    "import ipywidgets as widgets\n",
    "\n",
    "from IPython.display import display"
   ]
  },
  {
   "cell_type": "code",
   "execution_count": null,
   "id": "e2e28d67-2cd4-4ed6-9ee8-e0e62589c0e7",
   "metadata": {},
   "outputs": [],
   "source": [
    "domain = \"ezua1.local\"\n",
    "mlflow_username = \"chowoocheol@gmail.com\"\n",
    "mlflow_password = \"userdemo1!\""
   ]
  },
  {
   "cell_type": "markdown",
   "id": "873a5265-244d-487d-a862-983410881545",
   "metadata": {
    "tags": []
   },
   "source": [
    "# Set Up MLflow Credential and Environment values\n",
    "\n",
    "Set up MLflow for model tracking and register the model. Include authentication if necessary."
   ]
  },
  {
   "cell_type": "code",
   "execution_count": null,
   "id": "ec85fe25-4788-443c-ae81-627d6fd320e0",
   "metadata": {},
   "outputs": [],
   "source": [
    "# Add heading\n",
    "heading = widgets.HTML(\"<h2>MLflow Credentials</h2>\")\n",
    "display(heading)\n",
    "\n",
    "domain_input = widgets.Text(description='Domain:', placeholder=\"ua.ezm.host\")\n",
    "username_input = widgets.Text(description='Username:')\n",
    "password_input = widgets.Password(description='Password:')\n",
    "submit_button = widgets.Button(description='Submit')\n",
    "success_message = widgets.Output()\n",
    "\n",
    "domain = None\n",
    "mlflow_username = None\n",
    "mlflow_password = None\n",
    "\n",
    "def submit_button_clicked(b):\n",
    "    global domain, mlflow_username, mlflow_password\n",
    "    domain = domain_input.value\n",
    "    mlflow_username = username_input.value\n",
    "    mlflow_password = password_input.value\n",
    "    with success_message:\n",
    "        success_message.clear_output()\n",
    "        print(\"Credentials submitted successfully!\")\n",
    "    submit_button.disabled = True\n",
    "\n",
    "submit_button.on_click(submit_button_clicked)\n",
    "\n",
    "# Set margin on the submit button\n",
    "submit_button.layout.margin = '20px 0 20px 0'\n",
    "\n",
    "# Display inputs and button\n",
    "display(domain_input, username_input, password_input, submit_button, success_message)"
   ]
  },
  {
   "cell_type": "code",
   "execution_count": null,
   "id": "76835a68-0079-4fd3-a01e-98b5cfe41c41",
   "metadata": {},
   "outputs": [],
   "source": [
    "token_url = f\"https://keycloak.{domain}/realms/UA/protocol/openid-connect/token\"\n",
    "\n",
    "data = {\n",
    "    \"username\" : mlflow_username,\n",
    "    \"password\" : mlflow_password,\n",
    "    \"grant_type\" : \"password\",\n",
    "    \"client_id\" : \"ua-grant\",\n",
    "}\n",
    "\n",
    "token_responce = requests.post(token_url, data=data, allow_redirects=True, verify=False)\n",
    "\n",
    "token = token_responce.json()[\"access_token\"]"
   ]
  },
  {
   "cell_type": "code",
   "execution_count": null,
   "id": "a5ef82bc-6ea6-43bc-a757-0bbf5c133810",
   "metadata": {},
   "outputs": [],
   "source": [
    "os.environ['MLFLOW_TRACKING_TOKEN'] = token\n",
    "os.environ[\"AWS_ACCESS_KEY_ID\"] = os.environ['MLFLOW_TRACKING_TOKEN']\n",
    "os.environ[\"AWS_SECRET_ACCESS_KEY\"] = \"s3\"\n",
    "os.environ[\"AWS_ENDPOINT_URL\"] = 'http://local-s3-service.ezdata-system.svc.cluster.local:30000'\n",
    "os.environ[\"MLFLOW_S3_ENDPOINT_URL\"] = os.environ[\"AWS_ENDPOINT_URL\"]\n",
    "os.environ[\"MLFLOW_S3_IGNORE_TLS\"] = \"true\"\n",
    "os.environ[\"MLFLOW_TRACKING_INSECURE_TLS\"] = \"true\"\n",
    "os.environ[\"MLFLOW_TRACKING_URI\"] = \"http://mlflow.mlflow.svc.cluster.local:5000\""
   ]
  },
  {
   "cell_type": "markdown",
   "id": "9c5f780b-b22a-468b-ab51-2b39db9b479b",
   "metadata": {},
   "source": [
    "# Get Registerd Model List and Model Details\n",
    "\n",
    "Set up MLflow client and get information of registered models"
   ]
  },
  {
   "cell_type": "code",
   "execution_count": null,
   "id": "47a0b837-f2a8-4618-b1cf-4ffbd2072b5e",
   "metadata": {
    "tags": []
   },
   "outputs": [],
   "source": [
    "# Create an instance of the MLflow client\n",
    "client = MlflowClient()"
   ]
  },
  {
   "cell_type": "code",
   "execution_count": null,
   "id": "30216c18-7cee-4c4c-97b2-183d83ee4146",
   "metadata": {},
   "outputs": [],
   "source": [
    "# Function to get list of registered models\n",
    "def list_registered_models():\n",
    "    models = client.search_registered_models()\n",
    "    return models\n",
    "\n",
    "# Function to get details of a specific model\n",
    "def get_model_details(model_name):\n",
    "    try:\n",
    "        # 모델의 모든 버전 정보를 검색\n",
    "        versions = client.search_model_versions(f\"name='{model_name}'\")\n",
    "        model_details = []\n",
    "        \n",
    "        # 각 버전의 상세 정보 추출\n",
    "        for version in versions:\n",
    "            detail = {\n",
    "                \"version\": version.version,\n",
    "                \"run_id\": version.run_id,\n",
    "                \"source\": version.source,\n",
    "                \"status\": version.status,\n",
    "                \"created_time\": version.creation_timestamp,\n",
    "                \"last_updated_time\": version.last_updated_timestamp\n",
    "            }\n",
    "            model_details.append(detail)\n",
    "        \n",
    "        return model_details\n",
    "    \n",
    "    except Exception as e:\n",
    "        print(f\"Error retrieving details for model '{model_name}': {e}\")\n",
    "        return None"
   ]
  },
  {
   "cell_type": "code",
   "execution_count": null,
   "id": "f85cfa78-e97c-460b-b1f2-649b5b1d560f",
   "metadata": {},
   "outputs": [],
   "source": [
    "# 등록된 모델 리스트 가져오기\n",
    "registered_models = list_registered_models()\n",
    "print(\"Registered Models:\")\n",
    "for model in registered_models:\n",
    "    print(f\"- {model.name}\")\n",
    "\n",
    "# Prompt the user to enter the model name they want to query\n",
    "model_name = input(\"Enter the registered model name you want to query: \")\n",
    "\n",
    "# Retrieve and display the details for the specified model\n",
    "details = get_model_details(model_name)\n",
    "\n",
    "if details:\n",
    "    print(f\"\\nDetails for model '{model_name}':\")\n",
    "    for detail in details:\n",
    "        print(detail)\n",
    "else:\n",
    "    print(f\"No details found for model '{model_name}'\")"
   ]
  }
 ],
 "metadata": {
  "kernelspec": {
   "display_name": "Python 3 (ipykernel)",
   "language": "python",
   "name": "python3"
  },
  "language_info": {
   "codemirror_mode": {
    "name": "ipython",
    "version": 3
   },
   "file_extension": ".py",
   "mimetype": "text/x-python",
   "name": "python",
   "nbconvert_exporter": "python",
   "pygments_lexer": "ipython3",
   "version": "3.8.10"
  }
 },
 "nbformat": 4,
 "nbformat_minor": 5
}
